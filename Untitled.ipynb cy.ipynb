{
 "cells": [
  {
   "cell_type": "code",
   "execution_count": null,
   "id": "4634721d-5a13-4ba4-8618-a5d28a82657d",
   "metadata": {},
   "outputs": [],
   "source": [
    "#escribir un programa que acepte el porcentaje de un alumno y evalue el grado de acuerdo al siguiente criterio:\n",
    "#calificacion grado\n",
    "# >90          A\n",
    "# >80 y <=90   B\n",
    "# >=60 y <=80  C\n",
    "# menor a 60   D\n"
   ]
  },
  {
   "cell_type": "code",
   "execution_count": 33,
   "id": "ed11e20e-7628-425c-8240-d3ef8220b541",
   "metadata": {},
   "outputs": [
    {
     "name": "stdin",
     "output_type": "stream",
     "text": [
      "escribe el porcentaje 3333333\n"
     ]
    },
    {
     "name": "stdout",
     "output_type": "stream",
     "text": [
      "porcentaje es igual A\n"
     ]
    }
   ],
   "source": [
    "porcentaje = int(input(\"escribe el porcentaje\"))\n",
    "if porcentaje>90:\n",
    "    print(\"porcentaje es igual A\")\n",
    "elif porcentaje>80 and porcentaje<=90:\n",
    "    print(\"porcentaje es igual B\")\n",
    "elif porcentaje>=60 and porcentaje<=80:\n",
    "    print(\"porcentaje es igual C\")\n",
    "else:\n",
    "    print(\"porcentaje igual D\")\n",
    "\n"
   ]
  },
  {
   "cell_type": "code",
   "execution_count": null,
   "id": "6eb49b8b-15d9-4e2b-a319-5bf497c7114d",
   "metadata": {},
   "outputs": [],
   "source": [
    "#escribir un programa que capture el precio de una bicicleta y mestre los impuestos quue debe pagar siguiendo los criterios siguientes:\n",
    "#costo impuesto \n",
    "#>100000\n",
    "#>50000 y <=100000 10%\n",
    "#50000     5%\n"
   ]
  },
  {
   "cell_type": "code",
   "execution_count": null,
   "id": "c17b67f5-d039-48d5-9de3-bff9b8657bf7",
   "metadata": {},
   "outputs": [],
   "source": [
    "precio = int(input(\"escribe el precio de tu bici\"))\n",
    "if precio>100000:\n",
    "    print(\"impuesto igual a \", precio *.15)\n",
    "elif precio>50000 and precio<=100000:\n",
    "    print(\"impuesto igual a \", precio *.10)\n",
    "elif precio>50000:\n",
    "    print(\"impuesto igual a \", precio *.5)\n",
    "    "
   ]
  },
  {
   "cell_type": "code",
   "execution_count": null,
   "id": "2e72a736-a87c-4112-ae52-175ab29bc45f",
   "metadata": {},
   "outputs": [],
   "source": [
    "\n",
    "año = int(input(\"Introduce el año: \"))\n",
    "\n",
    "# Verificación de si el año es bisiesto\n",
    "if (año % 4 == 0 and año % 100 != 0) or (año % 400 == 0):\n",
    "    print(f\"El año {año} es bisiesto.\")\n",
    "else:\n",
    "    print(f\"El año {año} no es bisiesto.\")"
   ]
  },
  {
   "cell_type": "code",
   "execution_count": 39,
   "id": "81fff095-f189-4207-b313-ab3c7716476f",
   "metadata": {},
   "outputs": [
    {
     "name": "stdin",
     "output_type": "stream",
     "text": [
      "escribe el numero de dia 1\n"
     ]
    },
    {
     "name": "stdout",
     "output_type": "stream",
     "text": [
      "el dia de la semana es lunes\n"
     ]
    }
   ],
   "source": [
    "dia = int(input(\"escribe el numero de dia\"))\n",
    "dias_de_la_semana=[\"lunes\",\"martes\" ,\"miescoles\" ,\"jueves\" ,\"viernes\" ,\"sabado\" ,\"domingo\"]\n",
    "print(\"el dia de la semana es\",dias_de_la_semana[dia-1])"
   ]
  },
  {
   "cell_type": "code",
   "execution_count": null,
   "id": "63167439-d48b-480d-8f2c-d964349ad370",
   "metadata": {},
   "outputs": [],
   "source": []
  }
 ],
 "metadata": {
  "kernelspec": {
   "display_name": "Python [conda env:base] *",
   "language": "python",
   "name": "conda-base-py"
  },
  "language_info": {
   "codemirror_mode": {
    "name": "ipython",
    "version": 3
   },
   "file_extension": ".py",
   "mimetype": "text/x-python",
   "name": "python",
   "nbconvert_exporter": "python",
   "pygments_lexer": "ipython3",
   "version": "3.12.7"
  }
 },
 "nbformat": 4,
 "nbformat_minor": 5
}
