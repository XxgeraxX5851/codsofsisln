{
 "cells": [
  {
   "cell_type": "code",
   "execution_count": 5,
   "id": "f8587ae8-f980-458c-958c-5fa18a45c0ad",
   "metadata": {},
   "outputs": [
    {
     "name": "stdout",
     "output_type": "stream",
     "text": [
      "0\n",
      "1\n",
      "2\n",
      "3\n",
      "4\n",
      "5\n",
      "6\n",
      "7\n",
      "8\n",
      "9\n"
     ]
    }
   ],
   "source": [
    "for i in range (0, 10): #escribe los primeros 10 numeros natulares \n",
    "    print(i)"
   ]
  },
  {
   "cell_type": "code",
   "execution_count": 9,
   "id": "e3b0131d-3449-4d0b-8824-742e64052dfc",
   "metadata": {},
   "outputs": [
    {
     "name": "stdout",
     "output_type": "stream",
     "text": [
      "1\n",
      "3\n",
      "5\n",
      "7\n",
      "9\n",
      "11\n",
      "13\n",
      "15\n",
      "17\n",
      "19\n"
     ]
    }
   ],
   "source": [
    "for i in range(1, 20, 2): # comiensa con 1, llega hasta el 19 ,avansando de 2 en 2\n",
    "    print(i)"
   ]
  },
  {
   "cell_type": "code",
   "execution_count": 11,
   "id": "aef95fb7-cf2a-4473-bf8b-029e2503d6c1",
   "metadata": {},
   "outputs": [
    {
     "name": "stdout",
     "output_type": "stream",
     "text": [
      "10\n",
      "9\n",
      "8\n",
      "7\n",
      "6\n",
      "5\n",
      "4\n",
      "3\n",
      "2\n",
      "1\n"
     ]
    }
   ],
   "source": [
    "for i in range(10, 0, -1): #comienza en 10 y disminuye asta 0\n",
    "    print(i)"
   ]
  },
  {
   "cell_type": "code",
   "execution_count": 13,
   "id": "fef32f0a-279b-43d2-9ebd-0a8ad220d80a",
   "metadata": {},
   "outputs": [
    {
     "name": "stdin",
     "output_type": "stream",
     "text": [
      "ingrese el numero 2\n"
     ]
    },
    {
     "name": "stdout",
     "output_type": "stream",
     "text": [
      "f{num} *{i} = {num * i}\n",
      "f{num} *{i} = {num * i}\n",
      "f{num} *{i} = {num * i}\n",
      "f{num} *{i} = {num * i}\n",
      "f{num} *{i} = {num * i}\n",
      "f{num} *{i} = {num * i}\n",
      "f{num} *{i} = {num * i}\n",
      "f{num} *{i} = {num * i}\n",
      "f{num} *{i} = {num * i}\n",
      "f{num} *{i} = {num * i}\n"
     ]
    }
   ],
   "source": [
    "num = int(input(\"ingrese el numero\")) #solicita un numero al usuario\n",
    "for i in range(1, 11): #literal del 1 al 10\n",
    "    print(\"f{num} * {i} = {num * i}\") #imprime la tabla de mutiplicar"
   ]
  },
  {
   "cell_type": "code",
   "execution_count": null,
   "id": "652f9985-bdfc-4ac7-b74e-3f4895d7c31b",
   "metadata": {},
   "outputs": [],
   "source": []
  }
 ],
 "metadata": {
  "kernelspec": {
   "display_name": "Python [conda env:base] *",
   "language": "python",
   "name": "conda-base-py"
  },
  "language_info": {
   "codemirror_mode": {
    "name": "ipython",
    "version": 3
   },
   "file_extension": ".py",
   "mimetype": "text/x-python",
   "name": "python",
   "nbconvert_exporter": "python",
   "pygments_lexer": "ipython3",
   "version": "3.12.7"
  }
 },
 "nbformat": 4,
 "nbformat_minor": 5
}
