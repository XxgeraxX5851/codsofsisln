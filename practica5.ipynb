{
 "cells": [
  {
   "cell_type": "code",
   "execution_count": null,
   "id": "0e716d48-0a1f-4510-b11c-7c226580f5dc",
   "metadata": {},
   "outputs": [],
   "source": [
    "#escribir una solucion que pregunte al usuario\n",
    "#su nombre y apellido, desplegar el texto en \n",
    "#pantalla invertido con un espacio entre ellos\n",
    "nombre_completo = input(\"Escribe tu primer nombre y primer apellido: \")\n",
    "nombre_completo = nombre_completo.split(\" \")\n",
    "nombre_completo = nombre_completo[::-1]\n",
    "nombre_completo = \" \".join(nombre_completo)\n",
    "print(nombre_completo)\n",
    "\n",
    "\n",
    "#Crear una solucion que le pregunte al usuario \n",
    "#su nombre y edad. Entonces escribir un mensaje\n",
    "#que le diga el año en el que puede llegar a tener\n",
    "#100 años de edad\n",
    "nombre = input(\"¿Cuál es tu nombre? \")\n",
    "edad = int(input(\"¿Cuántos años tienes? \"))\n",
    "\n",
    "# Calcular el año en el que el usuario tendrá 100 años\n",
    "anio_actual = datetime.now().year\n",
    "anio_cien = anio_actual + (100 - edad)\n",
    "\n",
    "# Mostrar el mensaje\n",
    "print(f\"{nombre}, alcanzarás los 100 años en el año {anio_cien}.\")"
   ]
  }
 ],
 "metadata": {
  "kernelspec": {
   "display_name": "Python [conda env:base] *",
   "language": "python",
   "name": "conda-base-py"
  },
  "language_info": {
   "codemirror_mode": {
    "name": "ipython",
    "version": 3
   },
   "file_extension": ".py",
   "mimetype": "text/x-python",
   "name": "python",
   "nbconvert_exporter": "python",
   "pygments_lexer": "ipython3",
   "version": "3.12.7"
  }
 },
 "nbformat": 4,
 "nbformat_minor": 5
}
