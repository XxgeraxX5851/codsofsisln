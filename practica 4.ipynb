#espacios en blanco
nombre = input("Cual es tu nombre")
edad = input("Que edad tienes")
profesion = input("Que deseas estudiar")

print("mi nombre es",nombre)
print("mi edad es",edad)
print("deseo estudiar",profesion) 
