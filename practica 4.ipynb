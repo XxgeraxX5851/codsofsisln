{
 "cells": [
  {
   "cell_type": "code",
   "execution_count": 1,
   "id": "d4eab42e-5e17-4c99-a5c7-d04f8feb8b8f",
   "metadata": {},
   "outputs": [
    {
     "ename": "SyntaxError",
     "evalue": "invalid syntax (2207076543.py, line 1)",
     "output_type": "error",
     "traceback": [
      "\u001b[1;36m  Cell \u001b[1;32mIn[1], line 1\u001b[1;36m\u001b[0m\n\u001b[1;33m    #espacios en blanco\u001b[0m\n\u001b[1;37m             ^\u001b[0m\n\u001b[1;31mSyntaxError\u001b[0m\u001b[1;31m:\u001b[0m invalid syntax\n"
     ]
    }
   ],
   "source": [
    "espacios en blanco\n",
    "nombre = input(\"Cual es tu nombre\")\n",
    "edad = input(\"Que edad tienes\")\n",
    "profesion = input(\"Que deseas estudiar\")"
   ]
  },
  {
   "cell_type": "code",
   "execution_count": null,
   "id": "751a37ca-ac28-4217-80fe-fec3ea22e427",
   "metadata": {},
   "outputs": [],
   "source": []
  }
 ],
 "metadata": {
  "kernelspec": {
   "display_name": "Python [conda env:base] *",
   "language": "python",
   "name": "conda-base-py"
  },
  "language_info": {
   "codemirror_mode": {
    "name": "ipython",
    "version": 3
   },
   "file_extension": ".py",
   "mimetype": "text/x-python",
   "name": "python",
   "nbconvert_exporter": "python",
   "pygments_lexer": "ipython3",
   "version": "3.12.7"
  }
 },
 "nbformat": 4,
 "nbformat_minor": 5
}
