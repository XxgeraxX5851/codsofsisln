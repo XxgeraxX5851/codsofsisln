{
 "cells": [
  {
   "cell_type": "code",
   "execution_count": null,
   "id": "5816ff6d-055c-4b7a-a6c7-5f49b4e9a3f9",
   "metadata": {},
   "outputs": [],
   "source": [
    "ciudad = int(input(\"escribe la ciudad\"))\n",
    "ciudades=[\"delhi\",\"paris\",\"nueva_york\",\"rio_de_janeiro\"]\n",
    "monumentos=[\"redfort\",\"torre_eifel\",\"estatua_libertad\",\"cristo_redentor\"]\n",
    "index.ciudades("
   ]
  },
  {
   "cell_type": "code",
   "execution_count": 7,
   "id": "c37eed5e-7c07-4650-8721-c6a905681895",
   "metadata": {},
   "outputs": [
    {
     "name": "stdin",
     "output_type": "stream",
     "text": [
      "escribe tu edad 21\n"
     ]
    },
    {
     "name": "stdout",
     "output_type": "stream",
     "text": [
      "puedes votar\n"
     ]
    }
   ],
   "source": [
    "edad  = int(input(\"escribe tu edad\"))\n",
    "if edad >18:\n",
    "     print (\"puedes votar\")\n",
    "elif edad >18:\n",
    "     print(\"no puedes votar\")"
   ]
  },
  {
   "cell_type": "code",
   "execution_count": 17,
   "id": "49ebc1c0-0566-4192-a36a-ab02d3012317",
   "metadata": {},
   "outputs": [
    {
     "name": "stdin",
     "output_type": "stream",
     "text": [
      "escribe el numeroA 7\n",
      "escribe el numeroB 90\n"
     ]
    },
    {
     "name": "stdout",
     "output_type": "stream",
     "text": [
      "es menor\n"
     ]
    }
   ],
   "source": [
    "numeroA  = int(input(\"escribe el numeroA\"))\n",
    "numeroB = int(input(\"escribe el numeroB\"))\n",
    "if numeroA>numeroB:\n",
    "     print (\"es mayor\")\n",
    "elif numeroB>numeroA:\n",
    "     print(\"es menor\")"
   ]
  },
  {
   "cell_type": "code",
   "execution_count": 19,
   "id": "628b56a9-3833-4cd2-963b-7359823c0346",
   "metadata": {},
   "outputs": [
    {
     "name": "stdin",
     "output_type": "stream",
     "text": [
      "escribe tu edad 78\n",
      "escribe tu edad 9999\n",
      "escribe tu edad 0\n",
      "escribe tu edad 12\n"
     ]
    },
    {
     "name": "stdout",
     "output_type": "stream",
     "text": [
      "[78, 9999, 0, 12]\n",
      "tu ere menor 0\n"
     ]
    }
   ],
   "source": [
    "edad = []\n",
    "persona1  = int(input(\"escribe tu edad\"))\n",
    "edad.append(persona1)\n",
    "persona2  = int(input(\"escribe tu edad\"))\n",
    "edad.append(persona2)\n",
    "persona3  = int(input(\"escribe tu edad\"))\n",
    "edad.append(persona3)\n",
    "persona4  = int(input(\"escribe tu edad\"))\n",
    "edad.append(persona4)\n",
    "print(edad)\n",
    "print (\"tu ere menor\",min(edad))"
   ]
  },
  {
   "cell_type": "code",
   "execution_count": 51,
   "id": "4f6bb6d1-2000-48b9-898e-19cb2bcf31e7",
   "metadata": {},
   "outputs": [
    {
     "name": "stdin",
     "output_type": "stream",
     "text": [
      "escribe una palabra tetAs5645}{\n"
     ]
    },
    {
     "name": "stdout",
     "output_type": "stream",
     "text": [
      "['t', 'e', 't', 'A', 's', '5', '6', '4', '5', '}', '{']\n",
      "minuscula  t\n",
      "minuscula  e\n",
      "minuscula  t\n",
      "mayuscula  A\n",
      "minuscula  s\n",
      "es un simbolo o un numero  5\n",
      "es un simbolo o un numero  6\n",
      "es un simbolo o un numero  4\n",
      "es un simbolo o un numero  5\n",
      "es un simbolo o un numero  }\n",
      "es un simbolo o un numero  {\n"
     ]
    }
   ],
   "source": [
    "import string\n",
    "palabra  = input(\"escribe una palabra\")\n",
    "letras= list(palabra)\n",
    "mayus= string.ascii_uppercase\n",
    "minus= string.ascii_lowercase\n",
    "print(letras)\n",
    "for i in letras:\n",
    "    if i in mayus:\n",
    "        print(\"mayuscula \",i)\n",
    "    elif i in minus:\n",
    "        print(\"minuscula \",i)\n",
    "    else:\n",
    "     print(\"es un simbolo o un numero \",i)"
   ]
  }
 ],
 "metadata": {
  "kernelspec": {
   "display_name": "Python [conda env:base] *",
   "language": "python",
   "name": "conda-base-py"
  },
  "language_info": {
   "codemirror_mode": {
    "name": "ipython",
    "version": 3
   },
   "file_extension": ".py",
   "mimetype": "text/x-python",
   "name": "python",
   "nbconvert_exporter": "python",
   "pygments_lexer": "ipython3",
   "version": "3.12.7"
  }
 },
 "nbformat": 4,
 "nbformat_minor": 5
}
